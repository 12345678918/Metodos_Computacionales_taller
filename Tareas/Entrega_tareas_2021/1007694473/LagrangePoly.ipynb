{
 "cells": [
  {
   "cell_type": "markdown",
   "metadata": {
    "id": "g7Iz90k56MsP"
   },
   "source": [
    "# Interpolation polynomial in the Lagrange form\n",
    "<a href=\"https://colab.research.google.com/github/restrepo/ComputationalMethods/blob/master/material/LagrangePoly.ipynb\" target=\"_parent\"><img src=\"https://colab.research.google.com/assets/colab-badge.svg\" alt=\"Open In Colab\"/></a>\n",
    "\n",
    "Based on [this code](https://gist.github.com/folkertdev/084c53887c49a6248839)\n",
    "\n",
    "$$f(x)\\approx P_n(x)\\,,$$\n",
    "\n",
    "$$P_n(x) = \\sum_{i=0}^n f(x_i)L_{n,i}(x) = \\sum_{i=0}^n y_iL_{n,i}(x)$$\n",
    "\n",
    "**References:**\n",
    "[Wikipedia](https://en.wikipedia.org/wiki/Lagrange_polynomial)"
   ]
  },
  {
   "cell_type": "markdown",
   "metadata": {
    "id": "xYmS1wzh-hZL"
   },
   "source": [
    "### We will use SymPy"
   ]
  },
  {
   "cell_type": "code",
   "execution_count": 2,
   "metadata": {
    "id": "kF5mBh2q-mMs"
   },
   "outputs": [],
   "source": [
    "from sympy import simplify, symbols, expand, factor, sin, cos #..., lambdify, solve_poly_system"
   ]
  },
  {
   "cell_type": "code",
   "execution_count": 3,
   "metadata": {
    "colab": {
     "base_uri": "https://localhost:8080/",
     "height": 51
    },
    "id": "ht5AYUK2L4-r",
    "outputId": "dd77c3d7-be4b-4d74-cd7a-3dd590da1c15"
   },
   "outputs": [
    {
     "data": {
      "text/latex": [
       "$\\displaystyle \\frac{3}{2}$"
      ],
      "text/plain": [
       "3/2"
      ]
     },
     "execution_count": 3,
     "metadata": {
      "tags": []
     },
     "output_type": "execute_result"
    }
   ],
   "source": [
    "simplify('2/3+5/6')"
   ]
  },
  {
   "cell_type": "code",
   "execution_count": 4,
   "metadata": {
    "colab": {
     "base_uri": "https://localhost:8080/",
     "height": 39
    },
    "id": "grYmSnH2L3O8",
    "outputId": "e49bf4e5-684b-4105-b8d3-c1d4127151ca"
   },
   "outputs": [
    {
     "data": {
      "text/latex": [
       "$\\displaystyle x^{2} - 1$"
      ],
      "text/plain": [
       "x**2 - 1"
      ]
     },
     "execution_count": 4,
     "metadata": {
      "tags": []
     },
     "output_type": "execute_result"
    }
   ],
   "source": [
    "x = symbols('x')\n",
    "expand('(x-1)*(x+1)')"
   ]
  },
  {
   "cell_type": "code",
   "execution_count": 5,
   "metadata": {
    "colab": {
     "base_uri": "https://localhost:8080/",
     "height": 39
    },
    "id": "2N6pf_oOMRv5",
    "outputId": "26d26891-5e71-4e00-f8c1-a8daf19951f7"
   },
   "outputs": [
    {
     "data": {
      "text/latex": [
       "$\\displaystyle \\left(x - 1\\right) \\left(x + 1\\right)$"
      ],
      "text/plain": [
       "(x - 1)*(x + 1)"
      ]
     },
     "execution_count": 5,
     "metadata": {
      "tags": []
     },
     "output_type": "execute_result"
    }
   ],
   "source": [
    "factor('x**2-1')"
   ]
  },
  {
   "cell_type": "code",
   "execution_count": 6,
   "metadata": {
    "id": "M2SWdB5RMwdA"
   },
   "outputs": [],
   "source": [
    "x=symbols('x')"
   ]
  },
  {
   "cell_type": "markdown",
   "metadata": {
    "id": "IXPmsm0IcFl6"
   },
   "source": [
    "##  Implementation of the Lagrange interpolating polynomials and  Lagrange polynomials in SymPy"
   ]
  },
  {
   "cell_type": "code",
   "execution_count": 8,
   "metadata": {
    "colab": {
     "base_uri": "https://localhost:8080/"
    },
    "id": "edG_qX0U6MsR",
    "outputId": "249ec857-d24e-47b6-ecf5-ad0bf514729d"
   },
   "outputs": [
    {
     "name": "stdout",
     "output_type": "stream",
     "text": [
      "Overwriting LagrangePolynomial.py\n"
     ]
    }
   ],
   "source": [
    "%%writefile LagrangePolynomial.py\n",
    "\"\"\"\n",
    "From: https://gist.github.com/folkertdev/084c53887c49a6248839\n",
    "A sympy-based Lagrange polynomial constructor. \n",
    "\n",
    "Implementation of Lagrangian interpolating polynomial.\n",
    "See:\n",
    "\n",
    "   def lagrangePolynomial(xs, ys):\n",
    "\n",
    "Given two 1-D arrays `xs` and `ys,` returns the Lagrange interpolating\n",
    "polynomial through the points ``(xs, ys)``\n",
    "\n",
    "\n",
    "Given a set 1-D arrays of inputs and outputs, the lagrangePolynomial function \n",
    "will construct an expression that for every input gives the corresponding output. \n",
    "For intermediate values, the polynomial interpolates (giving varying results \n",
    "based  on the shape of your input). \n",
    "\n",
    "The Lagrangian polynomials can be obtained explicitly with (see below):\n",
    "   \n",
    "   def polyL(xs,j):\n",
    "   \n",
    "as sympy polynomial, and \n",
    "\n",
    "    def L(xs,j):\n",
    "\n",
    "as Python functions.\n",
    "\n",
    "\n",
    "This is useful when the result needs to be used outside of Python, because the \n",
    "expression can easily be copied. To convert the expression to a python function \n",
    "object, use sympy.lambdify.\n",
    "\"\"\"\n",
    "from sympy import symbols, expand, lambdify, solve_poly_system\n",
    "#Python library for arithmetic with arbitrary precision\n",
    "from mpmath import tan, e\n",
    "\n",
    "import math\n",
    "\n",
    "from operator import mul\n",
    "from functools import reduce, lru_cache\n",
    "from itertools import chain\n",
    "\n",
    "# sympy symbols\n",
    "x = symbols('x')\n",
    "\n",
    "# convenience functions\n",
    "product = lambda *args: reduce(mul, *(list(args) + [1]))\n",
    "\n",
    "# test data\n",
    "labels = [(-3/2), (-3/4), 0, 3/4, 3/2]\n",
    "points = [math.tan(v) for v in labels]\n",
    "\n",
    "# this product may be reusable (when creating many functions on the same domain)\n",
    "# therefore, cache the result\n",
    "@lru_cache(16)\n",
    "def l(labels, j):\n",
    "    def gen(labels, j):\n",
    "        k = len(labels)\n",
    "        current = labels[j]\n",
    "        for m in labels:\n",
    "            if m == current:\n",
    "                continue\n",
    "            yield (x - m) / (current - m)\n",
    "    return expand(product(gen(labels, j)))\n",
    "\n",
    "def polyL(xs,j):\n",
    "    '''\n",
    "    Lagrange polynomials as sympy polynomial\n",
    "    xs: the n+1 nodes of the intepolation polynomial in the Lagrange Form\n",
    "    j: Is the j-th Lagrange polinomial for the specific xs.\n",
    "    '''\n",
    "    xs=tuple(xs)\n",
    "    return l(xs,j)\n",
    "\n",
    "def L(xs,j):\n",
    "    '''\n",
    "    Lagrange polynomials as python function\n",
    "    xs: the n+1 nodes of the intepolation polynomial in the Lagrange Form\n",
    "    j: Is the j-th Lagrange polinomial for the specific xs.\n",
    "    '''\n",
    "    return lambdify(x, polyL(xs,j) )\n",
    "\n",
    "def lagrangePolynomial(xs, ys):\n",
    "    '''\n",
    "    Given two 1-D arrays `x` and `w,` returns the Lagrange interpolating\n",
    "    polynomial through the points ``(x, w)``.\n",
    "\n",
    "    '''\n",
    "    # based on https://en.wikipedia.org/wiki/Lagrange_polynomial#Example_1\n",
    "    k = len(xs)\n",
    "    total = 0\n",
    "\n",
    "    # use tuple, needs to be hashable to cache\n",
    "    xs = tuple(xs)\n",
    "\n",
    "    for j, current in enumerate(ys):\n",
    "        t = current * l(xs, j)\n",
    "        total += t\n",
    "\n",
    "    return total\n",
    "\n",
    "\n",
    "\n",
    "\n",
    "def x_intersections(function, *args):\n",
    "    \"Finds all x for which function(x) = 0\"\n",
    "    # solve_poly_system seems more efficient than solve for larger expressions\n",
    "    return [var for var in chain.from_iterable(solve_poly_system([function], *args)) if (var.is_real)]\n",
    "\n",
    "def x_scale(function, factor):\n",
    "    \"Scale function on the x-axis\"\n",
    "    return functions.subs(x, x / factor)\n",
    "\n",
    "if __name__ == '__main__':\n",
    "    func = lagrangePolynomial(labels, points)\n",
    "\n",
    "    pyfunc = lambdify(x, func)\n",
    "\n",
    "    for a, b in zip(labels, points):\n",
    "        assert(pyfunc(a) - b < 1e-6)"
   ]
  },
  {
   "cell_type": "code",
   "execution_count": 9,
   "metadata": {
    "colab": {
     "base_uri": "https://localhost:8080/"
    },
    "id": "a8hIn20o6MsW",
    "outputId": "4227898e-ec8a-4a6a-cc1c-5d19b237c89c"
   },
   "outputs": [
    {
     "name": "stdout",
     "output_type": "stream",
     "text": [
      "Populating the interactive namespace from numpy and matplotlib\n"
     ]
    },
    {
     "name": "stderr",
     "output_type": "stream",
     "text": [
      "/usr/local/lib/python3.7/dist-packages/IPython/core/magics/pylab.py:161: UserWarning: pylab import has clobbered these variables: ['sin', 'cos']\n",
      "`%matplotlib` prevents importing * from pylab and numpy\n",
      "  \"\\n`%matplotlib` prevents importing * from pylab and numpy\"\n"
     ]
    }
   ],
   "source": [
    "%pylab inline\n",
    "import pandas as pd\n",
    "import numpy as np\n",
    "import LagrangePolynomial as LP\n",
    "from scipy import interpolate"
   ]
  },
  {
   "cell_type": "markdown",
   "metadata": {
    "id": "9hay33SU6MsZ"
   },
   "source": [
    "## Example of interpolation of tree points with a polynomial of degree 2"
   ]
  },
  {
   "cell_type": "code",
   "execution_count": 10,
   "metadata": {
    "colab": {
     "base_uri": "https://localhost:8080/",
     "height": 141
    },
    "id": "XIUK3AHE6Msb",
    "outputId": "19a5ef08-9081-4af2-e894-c2043f26f182"
   },
   "outputs": [
    {
     "data": {
      "text/html": [
       "<div>\n",
       "<style scoped>\n",
       "    .dataframe tbody tr th:only-of-type {\n",
       "        vertical-align: middle;\n",
       "    }\n",
       "\n",
       "    .dataframe tbody tr th {\n",
       "        vertical-align: top;\n",
       "    }\n",
       "\n",
       "    .dataframe thead th {\n",
       "        text-align: right;\n",
       "    }\n",
       "</style>\n",
       "<table border=\"1\" class=\"dataframe\">\n",
       "  <thead>\n",
       "    <tr style=\"text-align: right;\">\n",
       "      <th></th>\n",
       "      <th>X</th>\n",
       "      <th>Y</th>\n",
       "    </tr>\n",
       "  </thead>\n",
       "  <tbody>\n",
       "    <tr>\n",
       "      <th>0</th>\n",
       "      <td>3.0</td>\n",
       "      <td>8.0</td>\n",
       "    </tr>\n",
       "    <tr>\n",
       "      <th>1</th>\n",
       "      <td>10.0</td>\n",
       "      <td>6.5</td>\n",
       "    </tr>\n",
       "    <tr>\n",
       "      <th>2</th>\n",
       "      <td>21.3</td>\n",
       "      <td>3.0</td>\n",
       "    </tr>\n",
       "  </tbody>\n",
       "</table>\n",
       "</div>"
      ],
      "text/plain": [
       "      X    Y\n",
       "0   3.0  8.0\n",
       "1  10.0  6.5\n",
       "2  21.3  3.0"
      ]
     },
     "execution_count": 10,
     "metadata": {
      "tags": []
     },
     "output_type": "execute_result"
    }
   ],
   "source": [
    "df=pd.DataFrame({ 'X':[3,10,21.3],'Y':[8.,6.5,3.]}  )\n",
    "df"
   ]
  },
  {
   "cell_type": "markdown",
   "metadata": {
    "id": "BdwRAGHJ6Msd"
   },
   "source": [
    "### `Numpy` implementation:"
   ]
  },
  {
   "cell_type": "code",
   "execution_count": 11,
   "metadata": {
    "colab": {
     "base_uri": "https://localhost:8080/",
     "height": 304
    },
    "id": "WmBQnOFN6Mse",
    "outputId": "40221f9c-e49f-4a91-9bed-7b30fe2f9d16"
   },
   "outputs": [
    {
     "name": "stdout",
     "output_type": "stream",
     "text": [
      "           2\n",
      "-0.005216 x - 0.1465 x + 8.486\n"
     ]
    },
    {
     "data": {
      "image/png": "[encoded data removed]",
      "text/plain": [
       "<Figure size 432x288 with 1 Axes>"
      ]
     },
     "metadata": {
      "needs_background": "light",
      "tags": []
     },
     "output_type": "display_data"
    }
   ],
   "source": [
    "coeffs=np.polyfit(df.X,df.Y,deg=2)\n",
    "\n",
    "P=np.poly1d(coeffs)\n",
    "plt.plot(df.X,df.Y,'ro')\n",
    "x=np.linspace(-8,30)\n",
    "plt.plot(x,P( x),'b-')\n",
    "#plt.grid()\n",
    "plt.ylim(0,12)\n",
    "\n",
    "print(np.poly1d(coeffs))"
   ]
  },
  {
   "cell_type": "code",
   "execution_count": 12,
   "metadata": {
    "colab": {
     "base_uri": "https://localhost:8080/"
    },
    "id": "zvZOB6IDUSqc",
    "outputId": "87d0fb7d-9531-4f42-de13-6093230f8330"
   },
   "outputs": [
    {
     "name": "stdout",
     "output_type": "stream",
     "text": [
      "[-5.21578137e-03 -1.46480557e-01  8.48638370e+00]\n"
     ]
    }
   ],
   "source": [
    "print(coeffs)"
   ]
  },
  {
   "cell_type": "markdown",
   "metadata": {
    "id": "Vzok9x4q6Msi"
   },
   "source": [
    "### `Scipy` implementation of the Interpolation polynomial in the Lagrange form"
   ]
  },
  {
   "cell_type": "code",
   "execution_count": 13,
   "metadata": {
    "id": "YyFwK_zYPA7S"
   },
   "outputs": [],
   "source": [
    "interpolate.lagrange?"
   ]
  },
  {
   "cell_type": "code",
   "execution_count": null,
   "metadata": {
    "colab": {
     "base_uri": "https://localhost:8080/"
    },
    "id": "RNkOXO3U6Msi",
    "outputId": "5a0c5c76-6dc5-4175-ef9a-876876b21c63"
   },
   "outputs": [
    {
     "name": "stdout",
     "output_type": "stream",
     "text": [
      "           2\n",
      "-0.005216 x - 0.1465 x + 8.486\n"
     ]
    }
   ],
   "source": [
    "P=interpolate.lagrange(df.X,df.Y)\n",
    "print(P)"
   ]
  },
  {
   "cell_type": "markdown",
   "metadata": {
    "id": "HPev6_vt6Mso"
   },
   "source": [
    "### `Sympy` implementation of the Interpolation polynomial in the Lagrange form"
   ]
  },
  {
   "cell_type": "code",
   "execution_count": 14,
   "metadata": {
    "colab": {
     "base_uri": "https://localhost:8080/",
     "height": 39
    },
    "id": "A9HnVoq66Msp",
    "outputId": "e67d44b0-0c64-41ea-d97b-a3cd8df07a13"
   },
   "outputs": [
    {
     "data": {
      "text/latex": [
       "$\\displaystyle - 0.00521578136549848 x^{2} - 0.146480556534234 x + 8.48638370189219$"
      ],
      "text/plain": [
       "-0.00521578136549848*x**2 - 0.146480556534234*x + 8.48638370189219"
      ]
     },
     "execution_count": 14,
     "metadata": {
      "tags": []
     },
     "output_type": "execute_result"
    }
   ],
   "source": [
    "LP.lagrangePolynomial(df.X,df.Y)"
   ]
  },
  {
   "cell_type": "code",
   "execution_count": 15,
   "metadata": {
    "colab": {
     "base_uri": "https://localhost:8080/",
     "height": 37
    },
    "id": "U8P6WS6zhLef",
    "outputId": "06887495-2f0c-4562-c9bc-af79ea5f87fe"
   },
   "outputs": [
    {
     "data": {
      "text/latex": [
       "$\\displaystyle 6.5$"
      ],
      "text/plain": [
       "6.50000000000000"
      ]
     },
     "execution_count": 15,
     "metadata": {
      "tags": []
     },
     "output_type": "execute_result"
    }
   ],
   "source": [
    "P=LP.lagrangePolynomial(df.X,df.Y)\n",
    "#P(df.X[1])    no se puede usar P como función \n",
    "\n",
    "P_=P.as_poly()\n",
    "P_(df.X[1]) # ahora se puede usar como función "
   ]
  },
  {
   "cell_type": "markdown",
   "metadata": {
    "id": "I6NkvQE_6Mst"
   },
   "source": [
    "With this simpy implementation we can check expliclty that:\n",
    "$$P_2(x) =  L_{2,0}(x)f(x_0)+L_{2,1}(x)f(x_1)+L_{2,2}(x)f(x_2)$$"
   ]
  },
  {
   "cell_type": "markdown",
   "metadata": {
    "id": "qoMgEkhQ6Mst"
   },
   "source": [
    "a) By using `sympy` polynomials:  `LP.polyL`:"
   ]
  },
  {
   "cell_type": "code",
   "execution_count": 16,
   "metadata": {
    "colab": {
     "base_uri": "https://localhost:8080/",
     "height": 39
    },
    "id": "LpV8NsAK6Msx",
    "outputId": "b632d0c4-58dd-48bc-cfce-b897e05ad2e0"
   },
   "outputs": [
    {
     "data": {
      "text/latex": [
       "$\\displaystyle - 0.00521578136549848 x^{2} - 0.146480556534234 x + 8.48638370189219$"
      ],
      "text/plain": [
       "-0.00521578136549848*x**2 - 0.146480556534234*x + 8.48638370189219"
      ]
     },
     "execution_count": 16,
     "metadata": {
      "tags": []
     },
     "output_type": "execute_result"
    }
   ],
   "source": [
    "LP.polyL( df.X,0)*df.Y[0]+LP.polyL( df.X,1)*df.Y[1]+LP.polyL( df.X,2)*df.Y[2]"
   ]
  },
  {
   "cell_type": "code",
   "execution_count": 17,
   "metadata": {
    "colab": {
     "base_uri": "https://localhost:8080/",
     "height": 39
    },
    "id": "nYd7rBzxCI9r",
    "outputId": "dfcc171d-98ef-4ad2-d3f8-8204920a15c6"
   },
   "outputs": [
    {
     "data": {
      "text/latex": [
       "$\\displaystyle 0.0078064012490242 x^{2} - 0.244340359094457 x + 1.66276346604215$"
      ],
      "text/plain": [
       "0.0078064012490242*x**2 - 0.244340359094457*x + 1.66276346604215"
      ]
     },
     "execution_count": 17,
     "metadata": {
      "tags": []
     },
     "output_type": "execute_result"
    }
   ],
   "source": [
    "LP.polyL( df.X,0)"
   ]
  },
  {
   "cell_type": "markdown",
   "metadata": {
    "id": "sUh2LNo76Ms0"
   },
   "source": [
    "As a function"
   ]
  },
  {
   "cell_type": "code",
   "execution_count": 18,
   "metadata": {
    "id": "upfcBNKG6Ms1"
   },
   "outputs": [],
   "source": [
    "def P_2(x,xs,ys):\n",
    "    return LP.L(xs,0)(x)*ys[0]+LP.L(xs,1)(x)*ys[1]+LP.L( xs,2)(x)*ys[2]"
   ]
  },
  {
   "cell_type": "code",
   "execution_count": 19,
   "metadata": {
    "colab": {
     "base_uri": "https://localhost:8080/",
     "height": 287
    },
    "id": "3qEo2_Z36Ms5",
    "outputId": "ed6893f2-e163-4457-fad8-da69407f2afd"
   },
   "outputs": [
    {
     "data": {
      "text/plain": [
       "(0.0, 12.0)"
      ]
     },
     "execution_count": 19,
     "metadata": {
      "tags": []
     },
     "output_type": "execute_result"
    },
    {
     "data": {
      "image/png": "[encoded data removed]",
      "text/plain": [
       "<Figure size 432x288 with 1 Axes>"
      ]
     },
     "metadata": {
      "needs_background": "light",
      "tags": []
     },
     "output_type": "display_data"
    }
   ],
   "source": [
    "plt.plot(df.X,df.Y,'ro')\n",
    "x=np.linspace(-8,30)\n",
    "plt.plot(x,P_2( x,df.X,df.Y),'b-')\n",
    "#plt.grid()\n",
    "plt.ylim(0,12)"
   ]
  },
  {
   "cell_type": "markdown",
   "metadata": {
    "id": "kuQ67AD36Ms7"
   },
   "source": [
    "## Lagrange polynomial properties\n",
    "$$L_{n,i}(x_i) = 1\\,,\\qquad\\text{and}\\,,\\qquad L_{n,i}(x_j) = 0\\quad\\text{for $i\\neq j$}$$ "
   ]
  },
  {
   "cell_type": "markdown",
   "metadata": {
    "id": "sm3yMzd16Ms8"
   },
   "source": [
    "As `sympy` objects"
   ]
  },
  {
   "cell_type": "code",
   "execution_count": 20,
   "metadata": {
    "colab": {
     "base_uri": "https://localhost:8080/",
     "height": 39
    },
    "id": "d75g4LLQ6Ms_",
    "outputId": "65b836e2-6022-4660-ef43-840c983a63eb"
   },
   "outputs": [
    {
     "data": {
      "text/latex": [
       "$\\displaystyle 0.0078064012490242 x^{2} - 0.244340359094457 x + 1.66276346604215$"
      ],
      "text/plain": [
       "0.0078064012490242*x**2 - 0.244340359094457*x + 1.66276346604215"
      ]
     },
     "execution_count": 20,
     "metadata": {
      "tags": []
     },
     "output_type": "execute_result"
    }
   ],
   "source": [
    "L2_0=LP.polyL(df.X,0)\n",
    "L2_0"
   ]
  },
  {
   "cell_type": "code",
   "execution_count": 21,
   "metadata": {
    "colab": {
     "base_uri": "https://localhost:8080/"
    },
    "id": "rl9-CfcZYtRF",
    "outputId": "97ee80ec-2260-4ae6-e2ff-bb6ee62419fd"
   },
   "outputs": [
    {
     "data": {
      "text/plain": [
       "sympy.core.add.Add"
      ]
     },
     "execution_count": 21,
     "metadata": {
      "tags": []
     },
     "output_type": "execute_result"
    }
   ],
   "source": [
    "type(L2_0)"
   ]
  },
  {
   "cell_type": "code",
   "execution_count": 22,
   "metadata": {
    "colab": {
     "base_uri": "https://localhost:8080/",
     "height": 39
    },
    "id": "RSWEVXckQQ3x",
    "outputId": "726204a1-9962-4d4e-dd80-dd4fe2689cb2"
   },
   "outputs": [
    {
     "data": {
      "text/latex": [
       "$\\displaystyle \\operatorname{Poly}{\\left( 0.0078064012490242 x^{2} - 0.244340359094457 x + 1.66276346604215, x, domain=\\mathbb{R} \\right)}$"
      ],
      "text/plain": [
       "Poly(0.0078064012490242*x**2 - 0.244340359094457*x + 1.66276346604215, x, domain='RR')"
      ]
     },
     "execution_count": 22,
     "metadata": {
      "tags": []
     },
     "output_type": "execute_result"
    }
   ],
   "source": [
    "L2_0.as_poly()# convirtiendolo a un polinomio de sympy \n",
    "              #para usarlo como función"
   ]
  },
  {
   "cell_type": "markdown",
   "metadata": {
    "id": "XjYB-yPkZFG_"
   },
   "source": [
    "podemos convertir la función matemática en un objeto polinomial usando el método sympy.as_poly ()."
   ]
  },
  {
   "cell_type": "code",
   "execution_count": 23,
   "metadata": {
    "colab": {
     "base_uri": "https://localhost:8080/",
     "height": 37
    },
    "id": "-o_bqkZb6MtB",
    "outputId": "35162fba-1256-48e1-952f-dde804d26328"
   },
   "outputs": [
    {
     "data": {
      "text/latex": [
       "$\\displaystyle 1.0$"
      ],
      "text/plain": [
       "1.00000000000000"
      ]
     },
     "execution_count": 23,
     "metadata": {
      "tags": []
     },
     "output_type": "execute_result"
    }
   ],
   "source": [
    "L2_0.as_poly()(df.X[0]) #usandolo como función \n",
    "                        #Evaluando en el punto x_0"
   ]
  },
  {
   "cell_type": "code",
   "execution_count": 24,
   "metadata": {
    "colab": {
     "base_uri": "https://localhost:8080/",
     "height": 37
    },
    "id": "DXf_QFl-6MtD",
    "outputId": "258fbb9b-1d2b-4f40-86eb-840fe8497487"
   },
   "outputs": [
    {
     "data": {
      "text/latex": [
       "$\\displaystyle -4.44089209850063 \\cdot 10^{-16}$"
      ],
      "text/plain": [
       "-4.44089209850063e-16"
      ]
     },
     "execution_count": 24,
     "metadata": {
      "tags": []
     },
     "output_type": "execute_result"
    }
   ],
   "source": [
    "L2_0.as_poly()(df.X[1]) # Evaluando en el punto x_1"
   ]
  },
  {
   "cell_type": "markdown",
   "metadata": {
    "id": "pGt8p9Pi6MtH"
   },
   "source": [
    "As `python` function"
   ]
  },
  {
   "cell_type": "code",
   "execution_count": 25,
   "metadata": {
    "colab": {
     "base_uri": "https://localhost:8080/"
    },
    "id": "QdZDFKwg6MtH",
    "outputId": "1a138594-22f9-42ac-c1b5-cd6ddf502fbc"
   },
   "outputs": [
    {
     "name": "stdout",
     "output_type": "stream",
     "text": [
      "0.9999999999999968 0.9999999999999951 0.9999999999999998\n"
     ]
    }
   ],
   "source": [
    "print( LP.L(df.X,0)(df.X[0]),LP.L(df.X,1)(df.X[1]),LP.L(df.X,2)(df.X[2]) )"
   ]
  },
  {
   "cell_type": "code",
   "execution_count": null,
   "metadata": {
    "colab": {
     "base_uri": "https://localhost:8080/",
     "height": 85
    },
    "id": "ASNerdbw6MtL",
    "outputId": "e6d0a641-d5b6-4f0e-88ec-8d6c963cb0cd"
   },
   "outputs": [
    {
     "data": {
      "text/plain": [
       "0    1.000000e+00\n",
       "1   -4.440892e-16\n",
       "2    5.329071e-15\n",
       "Name: X, dtype: float64"
      ]
     },
     "execution_count": 22,
     "metadata": {
      "tags": []
     },
     "output_type": "execute_result"
    }
   ],
   "source": [
    "LP.L(df.X,0)(df.X)# evaluando el polinomio de índice cero en todos los datos x"
   ]
  },
  {
   "cell_type": "code",
   "execution_count": null,
   "metadata": {
    "colab": {
     "base_uri": "https://localhost:8080/"
    },
    "id": "_khcYeBZ6MtP",
    "outputId": "70bb73ea-4778-4f22-8404-fd90b6d464d0"
   },
   "outputs": [
    {
     "data": {
      "text/plain": [
       "0   -4.440892e-16\n",
       "1    1.000000e+00\n",
       "2   -2.042810e-14\n",
       "Name: X, dtype: float64"
      ]
     },
     "execution_count": 28,
     "metadata": {
      "tags": []
     },
     "output_type": "execute_result"
    }
   ],
   "source": [
    "LP.L(df.X,1)(df.X) # evaluando el polinomio de índice uno en todos los datos x"
   ]
  },
  {
   "cell_type": "code",
   "execution_count": null,
   "metadata": {
    "colab": {
     "base_uri": "https://localhost:8080/"
    },
    "id": "WTerwYpC6MtS",
    "outputId": "55166084-dcf4-4602-df5f-b9da30a59fb4"
   },
   "outputs": [
    {
     "data": {
      "text/plain": [
       "0    1.665335e-16\n",
       "1    0.000000e+00\n",
       "2    1.000000e+00\n",
       "Name: X, dtype: float64"
      ]
     },
     "execution_count": 29,
     "metadata": {
      "tags": []
     },
     "output_type": "execute_result"
    }
   ],
   "source": [
    "LP.L(df.X,2)(df.X) # evaluando el polinomio de índice dos en todos los datos x"
   ]
  },
  {
   "cell_type": "markdown",
   "metadata": {
    "id": "l0tYzMZp6MtX"
   },
   "source": [
    "__Actividad__ Fit a cuatro puntos, comprobando las propiedades del polinomio de Lagrange"
   ]
  },
  {
   "cell_type": "markdown",
   "metadata": {
    "id": "LzsjNq8kk8HL"
   },
   "source": [
    "Se tomarán puntos sobre la gráfica de la función  $f(x) = {e}^{2x} - x$"
   ]
  },
  {
   "cell_type": "code",
   "execution_count": 27,
   "metadata": {
    "id": "9gFhCI7pC_Qd"
   },
   "outputs": [],
   "source": [
    "#función vista en clase \n",
    "def f(x):\n",
    "    '''\n",
    "    WARNING: all the parts of the function must be \n",
    "    numpy arrays in order to get the element by element sum.\n",
    "    '''\n",
    "    x=np.asarray(x) # Force x → array\n",
    "    return np.exp(2*x)-x"
   ]
  },
  {
   "cell_type": "code",
   "execution_count": 28,
   "metadata": {
    "id": "Ag46iSntqUlZ"
   },
   "outputs": [],
   "source": [
    "import numpy as np\n",
    "x=np.array([1,1.25,1.6,2])"
   ]
  },
  {
   "cell_type": "code",
   "execution_count": 39,
   "metadata": {
    "colab": {
     "base_uri": "https://localhost:8080/"
    },
    "id": "A4SQ4ZQClbuG",
    "outputId": "155a91de-d929-4f26-a1c0-6b157c601e45"
   },
   "outputs": [
    {
     "name": "stdout",
     "output_type": "stream",
     "text": [
      "Poly(26.3175317436943*x**3 - 74.4690532612041*x**2 + 85.3935315119666*x - 30.8529538955258, x, domain='RR')\n"
     ]
    }
   ],
   "source": [
    "\n",
    "#polinomio de interpolación en la forma Lagrange\n",
    "P=LP.lagrangePolynomial(x,f(x))\n",
    "\n",
    "#convitiendo en un polinomio de sympy\n",
    "P_3=P.as_poly()\n",
    "print(P_3)\n"
   ]
  },
  {
   "cell_type": "code",
   "execution_count": 30,
   "metadata": {
    "colab": {
     "base_uri": "https://localhost:8080/",
     "height": 37
    },
    "id": "ckngZUZQp_iK",
    "outputId": "54d44df4-874e-4065-cf44-fa4fd304c16f"
   },
   "outputs": [
    {
     "data": {
      "text/latex": [
       "$\\displaystyle 6.38905609893101$"
      ],
      "text/plain": [
       "6.38905609893101"
      ]
     },
     "execution_count": 30,
     "metadata": {
      "tags": []
     },
     "output_type": "execute_result"
    }
   ],
   "source": [
    "P_3(x[0])"
   ]
  },
  {
   "cell_type": "markdown",
   "metadata": {
    "id": "0-iIee5xsHyG"
   },
   "source": [
    "Propiedades del polinomio de Lagrange "
   ]
  },
  {
   "cell_type": "code",
   "execution_count": 32,
   "metadata": {
    "id": "C1LnFJdysOvn"
   },
   "outputs": [],
   "source": [
    "\"______primer polinomio de Lagrange____________\"\n",
    "#Polinomio grado tres-índice cero\n",
    "\n",
    "LP.polyL(x,0)\n",
    "L3_0=LP.polyL(x,0).as_poly()\n",
    "\n",
    "\n",
    "\"______segundo polinomio de Lagrange____________\"\n",
    "#Polinomio grado tres-índice uno\n",
    "LP.polyL(x,1)\n",
    "L3_1=LP.polyL(x,1).as_poly()\n",
    "\n",
    "\n",
    "\"______tercer polinomio de Lagrange____________\"\n",
    "#Polinomio grado tres-índice dos\n",
    "LP.polyL(x,2)\n",
    "L3_2=LP.polyL(x,2).as_poly()\n",
    "\n",
    "\n",
    "\"______cuarto polinomio de Lagrange____________\"\n",
    "#Polinomio grado tres-índice tres\n",
    "LP.polyL(x,3)\n",
    "L3_3=LP.polyL(x,3).as_poly()\n",
    "\n"
   ]
  },
  {
   "cell_type": "code",
   "execution_count": 33,
   "metadata": {
    "colab": {
     "base_uri": "https://localhost:8080/"
    },
    "id": "A-BGtFrfvyp7",
    "outputId": "1dbb9b30-a821-4573-bdf1-7b3eec7e6e8d"
   },
   "outputs": [
    {
     "name": "stdout",
     "output_type": "stream",
     "text": [
      "1.00000000000000\n",
      "0.0\n",
      "0.0\n",
      "-7.10542735760100e-15\n"
     ]
    }
   ],
   "source": [
    "\"Evaluando el primer polinomio de Lagrange en todos los datos x\"\n",
    "\n",
    "for i in range(0,4):\n",
    "  print(L3_0(x[i]))\n",
    "\n",
    "# El valor del polinomio es cero en todos los puntos\n",
    "#excepto en x_0, donde su valor es 1"
   ]
  },
  {
   "cell_type": "code",
   "execution_count": 34,
   "metadata": {
    "colab": {
     "base_uri": "https://localhost:8080/"
    },
    "id": "3o6SXveJwD-P",
    "outputId": "34b58e21-9f81-4b11-a7c0-e5198c9e8aac"
   },
   "outputs": [
    {
     "name": "stdout",
     "output_type": "stream",
     "text": [
      "7.10542735760100e-15\n",
      "1.00000000000001\n",
      "2.84217094304040e-14\n",
      "1.42108547152020e-14\n"
     ]
    }
   ],
   "source": [
    "\"Evaluando el segundo polinomio de Lagrange en todos los datos x\"\n",
    "\n",
    "for i in range(0,4):\n",
    "  print(L3_1(x[i]))\n",
    "\n",
    "# El valor del polinomio es cero en todos los puntos\n",
    "#excepto en x_1,donde su valor es 1"
   ]
  },
  {
   "cell_type": "code",
   "execution_count": 35,
   "metadata": {
    "colab": {
     "base_uri": "https://localhost:8080/"
    },
    "id": "aOVdPHeQwcYm",
    "outputId": "5d9a1b30-2749-4a82-bb01-c11dfe3c7f40"
   },
   "outputs": [
    {
     "name": "stdout",
     "output_type": "stream",
     "text": [
      "1.06581410364015e-14\n",
      "1.06581410364015e-14\n",
      "1.00000000000002\n",
      "2.48689957516035e-14\n"
     ]
    }
   ],
   "source": [
    "\"Evaluando el tercer polinomio de Lagrange en todos los datos x\"\n",
    "\n",
    "for i in range(0,4):\n",
    "  print(L3_2(x[i]))\n",
    "\n",
    "# El valor del polinomio es cero en todos los puntos\n",
    "#excepto en x_2, donde su valor es 1"
   ]
  },
  {
   "cell_type": "code",
   "execution_count": 36,
   "metadata": {
    "colab": {
     "base_uri": "https://localhost:8080/"
    },
    "id": "qls03Fw0wfkd",
    "outputId": "b66ce38d-7c71-4977-b70b-5096497abc6f"
   },
   "outputs": [
    {
     "name": "stdout",
     "output_type": "stream",
     "text": [
      "0.0\n",
      "1.77635683940025e-15\n",
      "8.88178419700125e-16\n",
      "1.00000000000000\n"
     ]
    }
   ],
   "source": [
    "\"Evaluando el cuarto polinomio de Lagrange en todos los datos x\"\n",
    "\n",
    "for i in range(0,4):\n",
    "  print(L3_3(x[i]))\n",
    "\n",
    "# El valor del polinomio es cero en todos los puntos\n",
    "#excepto en x_3, donde su valor es 1"
   ]
  },
  {
   "cell_type": "markdown",
   "metadata": {
    "id": "C5chu534HL7o"
   },
   "source": [
    "_______________Yennifer Yuliana Guerrero Uchima___________"
   ]
  }
 ],
 "metadata": {
  "colab": {
   "collapsed_sections": [],
   "name": "LagrangePoly.ipynb",
   "provenance": []
  },
  "kernelspec": {
   "display_name": "Python 3",
   "language": "python",
   "name": "python3"
  },
  "language_info": {
   "codemirror_mode": {
    "name": "ipython",
    "version": 3
   },
   "file_extension": ".py",
   "mimetype": "text/x-python",
   "name": "python",
   "nbconvert_exporter": "python",
   "pygments_lexer": "ipython3",
   "version": "3.6.9"
  }
 },
 "nbformat": 4,
 "nbformat_minor": 1
}
