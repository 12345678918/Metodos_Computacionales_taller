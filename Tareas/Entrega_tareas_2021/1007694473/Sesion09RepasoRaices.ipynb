{
  "nbformat": 4,
  "nbformat_minor": 0,
  "metadata": {
    "colab": {
      "name": "Sesion09RepasoRaices.ipynb",
      "provenance": [],
      "collapsed_sections": []
    },
    "kernelspec": {
      "name": "python3",
      "display_name": "Python 3"
    },
    "language_info": {
      "name": "python"
    }
  },
  "cells": [
    {
      "cell_type": "markdown",
      "metadata": {
        "id": "iMtlmOQm42xm"
      },
      "source": [
        "# Problemas \n",
        "\n",
        "#1. Area \n",
        "Hallar el área de un segmento circular cuya area sea igual a una cuarta parte del área del circulo. Para la solución se sugiere lo siguiente:\n",
        "\n",
        "a) Encontrar la ecuacion trascendental.\n",
        "\n",
        "b) Con la ecuación anterior, definir una funcion $f(\\theta)=0$. Emplee la funcion labmda de python.\n",
        "\n",
        "c) Construir una data frame de pandas con la columna \"theta\" con 1000 registros(filas) entre $[-2\\pi, 2\\pi]$. Sugerencia, para construir el data frame emplee la función linspace como sigue : np.linspace(-2*np.pi, 2*np.pi, 1000 )\n",
        "\n",
        "d) Construir una segunda columna titulada \"F_theta\" con los registros f(theta)\n",
        "\n",
        "f) Realice un gráfico de  \"F_theta\" vs \"theta\". Identifique el intervalo de la raiz.\n",
        "\n",
        "Estime el valor del ángulo empleando los siguientes metodos(Emplee  la documentacion):\n",
        "\n",
        "g) [Bisección](https://docs.scipy.org/doc/scipy/reference/generated/scipy.optimize.bisect.html)\n",
        "\n",
        "h) [Newton-Rapshon](https://docs.scipy.org/doc/scipy/reference/generated/scipy.optimize.newton.html)\n",
        "\n",
        "i) [Secante](https://docs.scipy.org/doc/scipy/reference/generated/scipy.optimize.newton.html) \n",
        "\n",
        "j) [Punto Fijo](https://docs.scipy.org/doc/scipy/reference/generated/scipy.optimize.fixed_point.html)\n",
        "\n",
        "\n"
      ]
    },
    {
      "cell_type": "markdown",
      "metadata": {
        "id": "-3-NoHtlVqXJ"
      },
      "source": [
        "A) ENCONTRAR LA ECUACION TRASCENDENTAL \n",
        "\n",
        "El area del cono que se considera es\n",
        "\\begin{equation}\n",
        "A1= \\frac{R^2\\theta}{2} \n",
        "\\end{equation}\n",
        "\n",
        "El area del triangulo es\n",
        "\n",
        "\\begin{equation}\n",
        "A2= (sin\\frac{\\theta}{2})(cos\\frac{\\theta}{2}) R^2\n",
        "\\end{equation}\n",
        "\n",
        "Entoces el area de la region circular es\n",
        "\n",
        "\\begin{equation}A=\\frac{R^2\\theta}{2} - (sin\\frac{\\theta}{2})(cos\\frac{\\theta}{2}) R^2\n",
        "\\end{equation}\n",
        "\n",
        "Como el area del segmento circular debe ser igual a la cuarta parte del area de un circulo.\n",
        "\n",
        "\\begin{equation}\\frac{\\pi R^2}{4}=\\frac{R^2\\theta}{2} - (sin\\frac{\\theta}{2})(cos\\frac{\\theta}{2}) R^2\n",
        "\\end{equation}\n",
        "\n",
        "\n",
        "\\begin{equation}\\frac{\\pi}{2}= \\theta- 2(sin\\frac{\\theta}{2})(cos\\frac{\\theta}{2})\n",
        "\\end{equation}\n",
        "\n",
        "De la identidad trigonometrica:\n",
        "\n",
        "\\begin{equation} sin\\theta=2(sin\\frac{\\theta}{2})(cos\\frac{\\theta}{2})\\end{equation}\n",
        "\n",
        "\n",
        "\n",
        "\n",
        "\n",
        "\n",
        "\n",
        "Finalmente la ecuacion que modela el problema es:\n",
        "\n",
        "\\begin{equation}\\frac{\\pi}{2} =\\theta-sin\\theta\n",
        "\\end{equation}\n",
        "\n",
        "\n",
        "\n",
        "\n",
        "\n",
        "\n",
        "\n"
      ]
    },
    {
      "cell_type": "markdown",
      "metadata": {
        "id": "QwEt9mIUZzbZ"
      },
      "source": [
        "B. Encontar el valor del \\begin{equation} \\theta\n",
        "\\end{equation} que satisface la ecuaci'on es eqquivalente a encontrar las raices de la funcion:\n",
        "\n",
        "\\begin{equation}f(\\theta)=\\theta-sin\\theta-\\frac{\\pi}{2} \n",
        "\\end{equation}\n"
      ]
    },
    {
      "cell_type": "code",
      "metadata": {
        "id": "eULpRO_XVpkq"
      },
      "source": [
        "import numpy as np\n",
        "import pandas as pd\n",
        "import matplotlib.pylab as plt\n",
        "from scipy import optimize"
      ],
      "execution_count": 2,
      "outputs": []
    },
    {
      "cell_type": "code",
      "metadata": {
        "id": "1rBnaTtP43Zj"
      },
      "source": [
        "\n",
        "\n",
        "f = lambda theta: theta-np.sin(theta)-np.pi/2\n",
        "\n",
        "theta=np.linspace(-2*(np.pi),2*(np.pi),1000) "
      ],
      "execution_count": 3,
      "outputs": []
    },
    {
      "cell_type": "code",
      "metadata": {
        "id": "wmKZFRhTEMzs",
        "colab": {
          "base_uri": "https://localhost:8080/",
          "height": 419
        },
        "outputId": "68399784-6749-4e37-ae78-5ea2efe2b5ae"
      },
      "source": [
        "# Construimos un DataFrame con valores de Theta\n",
        "\n",
        "df = pd.DataFrame() \n",
        "df[\"theta\"] = theta\n",
        "df[\"F_theta\"] = f(theta)\n",
        "df"
      ],
      "execution_count": 4,
      "outputs": [
        {
          "output_type": "execute_result",
          "data": {
            "text/html": [
              "<div>\n",
              "<style scoped>\n",
              "    .dataframe tbody tr th:only-of-type {\n",
              "        vertical-align: middle;\n",
              "    }\n",
              "\n",
              "    .dataframe tbody tr th {\n",
              "        vertical-align: top;\n",
              "    }\n",
              "\n",
              "    .dataframe thead th {\n",
              "        text-align: right;\n",
              "    }\n",
              "</style>\n",
              "<table border=\"1\" class=\"dataframe\">\n",
              "  <thead>\n",
              "    <tr style=\"text-align: right;\">\n",
              "      <th></th>\n",
              "      <th>theta</th>\n",
              "      <th>F_theta</th>\n",
              "    </tr>\n",
              "  </thead>\n",
              "  <tbody>\n",
              "    <tr>\n",
              "      <th>0</th>\n",
              "      <td>-6.283185</td>\n",
              "      <td>-7.853982</td>\n",
              "    </tr>\n",
              "    <tr>\n",
              "      <th>1</th>\n",
              "      <td>-6.270606</td>\n",
              "      <td>-7.853981</td>\n",
              "    </tr>\n",
              "    <tr>\n",
              "      <th>2</th>\n",
              "      <td>-6.258027</td>\n",
              "      <td>-7.853979</td>\n",
              "    </tr>\n",
              "    <tr>\n",
              "      <th>3</th>\n",
              "      <td>-6.245448</td>\n",
              "      <td>-7.853973</td>\n",
              "    </tr>\n",
              "    <tr>\n",
              "      <th>4</th>\n",
              "      <td>-6.232870</td>\n",
              "      <td>-7.853960</td>\n",
              "    </tr>\n",
              "    <tr>\n",
              "      <th>...</th>\n",
              "      <td>...</td>\n",
              "      <td>...</td>\n",
              "    </tr>\n",
              "    <tr>\n",
              "      <th>995</th>\n",
              "      <td>6.232870</td>\n",
              "      <td>4.712368</td>\n",
              "    </tr>\n",
              "    <tr>\n",
              "      <th>996</th>\n",
              "      <td>6.245448</td>\n",
              "      <td>4.712380</td>\n",
              "    </tr>\n",
              "    <tr>\n",
              "      <th>997</th>\n",
              "      <td>6.258027</td>\n",
              "      <td>4.712386</td>\n",
              "    </tr>\n",
              "    <tr>\n",
              "      <th>998</th>\n",
              "      <td>6.270606</td>\n",
              "      <td>4.712389</td>\n",
              "    </tr>\n",
              "    <tr>\n",
              "      <th>999</th>\n",
              "      <td>6.283185</td>\n",
              "      <td>4.712389</td>\n",
              "    </tr>\n",
              "  </tbody>\n",
              "</table>\n",
              "<p>1000 rows × 2 columns</p>\n",
              "</div>"
            ],
            "text/plain": [
              "        theta   F_theta\n",
              "0   -6.283185 -7.853982\n",
              "1   -6.270606 -7.853981\n",
              "2   -6.258027 -7.853979\n",
              "3   -6.245448 -7.853973\n",
              "4   -6.232870 -7.853960\n",
              "..        ...       ...\n",
              "995  6.232870  4.712368\n",
              "996  6.245448  4.712380\n",
              "997  6.258027  4.712386\n",
              "998  6.270606  4.712389\n",
              "999  6.283185  4.712389\n",
              "\n",
              "[1000 rows x 2 columns]"
            ]
          },
          "metadata": {},
          "execution_count": 4
        }
      ]
    },
    {
      "cell_type": "code",
      "metadata": {
        "colab": {
          "base_uri": "https://localhost:8080/",
          "height": 281
        },
        "id": "Fq7AcPlQ2ayc",
        "outputId": "bde3f2e7-9bf0-47fa-b31d-eab789cd1c38"
      },
      "source": [
        "plt.figure()\n",
        "plt.plot(df[\"theta\"], df[\"F_theta\"] )\n",
        "plt.xlabel(\"$\\\\theta$\")\n",
        "plt.ylabel(\"$f(\\\\theta)$\")\n",
        "plt.plot(theta,theta)\n",
        "plt.grid()\n",
        "plt.show()"
      ],
      "execution_count": 5,
      "outputs": [
        {
          "output_type": "display_data",
          "data": {
            "image/png": "[encoded data removed]",
            "text/plain": [
              "<Figure size 432x288 with 1 Axes>"
            ]
          },
          "metadata": {
            "needs_background": "light"
          }
        }
      ]
    },
    {
      "cell_type": "code",
      "metadata": {
        "colab": {
          "base_uri": "https://localhost:8080/"
        },
        "id": "kWI0MCEz2ib6",
        "outputId": "56d16b54-9d42-463d-e451-4f752ff75505"
      },
      "source": [
        "root = optimize.bisect(f, 0, 4)\n",
        "print(\"EL ángulo es: :\",root)"
      ],
      "execution_count": 36,
      "outputs": [
        {
          "output_type": "stream",
          "text": [
            "EL ángulo es: : 2.309881460010729\n"
          ],
          "name": "stdout"
        }
      ]
    },
    {
      "cell_type": "code",
      "metadata": {
        "colab": {
          "base_uri": "https://localhost:8080/"
        },
        "id": "5ec3bCKk7ut5",
        "outputId": "5bdcb408-6c21-4520-b814-5622ba657193"
      },
      "source": [
        "#Secante\n",
        "optimize.newton(f,2, fprime=None, args=(), tol=1.48e-08, maxiter=50, fprime2=None, x1=None, rtol=0.0, full_output=False, disp=True)"
      ],
      "execution_count": 7,
      "outputs": [
        {
          "output_type": "execute_result",
          "data": {
            "text/plain": [
              "2.309881460010033"
            ]
          },
          "metadata": {},
          "execution_count": 7
        }
      ]
    },
    {
      "cell_type": "code",
      "metadata": {
        "colab": {
          "base_uri": "https://localhost:8080/"
        },
        "id": "CXv6zKcLTSSM",
        "outputId": "344a3ed0-fcd9-4f64-bccf-0b7847417f03"
      },
      "source": [
        "#newton \n",
        "df= lambda theta: 1-np.cos(theta)\n",
        "optimize.newton(f,2, df, args=(), tol=1.48e-08, maxiter=1000, fprime2=None, x1=None, rtol=0.0, full_output=False, disp=True)"
      ],
      "execution_count": 8,
      "outputs": [
        {
          "output_type": "execute_result",
          "data": {
            "text/plain": [
              "2.3098814600100575"
            ]
          },
          "metadata": {},
          "execution_count": 8
        }
      ]
    },
    {
      "cell_type": "markdown",
      "metadata": {
        "id": "IILLmt8rI8-9"
      },
      "source": [
        "Para emplear el metodo de punto fijo creamos una funcion\n",
        "\n",
        "\\begin{equation}g(\\theta)=\\theta+f(\\theta)\n",
        "\\end{equation}\n",
        "\n",
        "\n",
        "Sea $$\\theta1$$ una raiz de f, entoces tenemos que \n",
        "\n",
        "\\begin{equation}g(\\theta1)=\\theta1+f(\\theta1)\n",
        "\\end{equation}\n",
        "\n",
        "\\begin{equation}g(\\theta1)=\\theta1\n",
        "\\end{equation}\n",
        "\n",
        "\n",
        "\n",
        "\n",
        "\n"
      ]
    },
    {
      "cell_type": "code",
      "metadata": {
        "colab": {
          "base_uri": "https://localhost:8080/",
          "height": 265
        },
        "id": "gGsymZYYCiUM",
        "outputId": "364f44b2-58a1-488f-af20-ec14b8b9cda7"
      },
      "source": [
        "# Punto Fijo\n",
        "g=lambda theta: 2*theta-np.sin(theta)-np.pi/2 \n",
        "\n",
        "plt.plot(theta,g(theta))\n",
        "plt.plot(theta,theta)\n",
        "plt.grid()\n"
      ],
      "execution_count": 9,
      "outputs": [
        {
          "output_type": "display_data",
          "data": {
            "image/png": "[encoded data removed]",
            "text/plain": [
              "<Figure size 432x288 with 1 Axes>"
            ]
          },
          "metadata": {
            "needs_background": "light"
          }
        }
      ]
    },
    {
      "cell_type": "code",
      "metadata": {
        "colab": {
          "base_uri": "https://localhost:8080/"
        },
        "id": "iBqONOR9GnRp",
        "outputId": "f4393b7e-63b4-4a94-aef9-972597e33271"
      },
      "source": [
        "#De la grafica podemos observar que 2 es un punto aproximado a la raiz buscada\n",
        "\n",
        "optimize.fixed_point(g,2, args=(), xtol=1e-08, maxiter=100, method='del2')"
      ],
      "execution_count": 10,
      "outputs": [
        {
          "output_type": "execute_result",
          "data": {
            "text/plain": [
              "array(2.30988146)"
            ]
          },
          "metadata": {},
          "execution_count": 10
        }
      ]
    },
    {
      "cell_type": "markdown",
      "metadata": {
        "id": "AqZSU8CE46S9"
      },
      "source": [
        "\n",
        "\n",
        "\n",
        "# 2. Movimiento de proyectiles en presencia de viento.\n",
        "\n",
        "Supongamos que un proyectil es lanzado desde el origen con una rapidez $v=vo( \\cos \\theta , \\sin \\theta $. Supongamos además que el efecto del viento sobre el proyectil es el de una fuerza proporcional a la velocidad relativa entre el viento y el proyectil. Teniendo presente que si u es la velocidad del viento y $\\alpha$ el ángulo que hace dirección de esta velocidad con el eje x, se puede entrontrar las siguientes ecuaciones diferenciales, asociada al estado de movimiento del [proyectil](https://iopscience.iop.org/article/10.1088/0143-0807/36/2/025016/meta):\n",
        "\n",
        "\n",
        "\\begin{equation}\n",
        "m\\frac{dv_x}{dt} = -mb(v_x-u\\cos \\alpha )\n",
        "\\end{equation}\n",
        "\n",
        "\\begin{equation}\n",
        "m\\frac{dv_y}{dt} = -mg-mb(v_x-u\\sin \\alpha ),\n",
        "\\end{equation}\n",
        "\n",
        "donde b es el párametro de rozamiento. La soluciones a las ecuaciones anteriores vienen dadas por:\n",
        "\n",
        "Posición en x\n",
        "\\begin{equation}\n",
        "x=(u\\cos \\alpha) t + \\frac{1}{b} (v_0\\cos \\theta_0 -u \\cos\\alpha)(1-\\mathrm{exp}(-bt))\n",
        "\\end{equation}\n",
        "\n",
        "Posicion en y \n",
        "\\begin{equation}\n",
        "y= \\frac{1}{b}\\left(\\frac{g}{b}+v_0 \\sin \\theta_0 -u\\sin\\alpha \\right)(1-\\mathrm{exp}(-bt))-\\left( \\frac{g}{b}-u\\sin\\alpha\\right)t\n",
        "\\end{equation}\n",
        "\n",
        "Ver imagen:  http://www.sc.ehu.es/sbweb/fisica3/fluidos/viento/parabolico.html\n",
        "\n",
        "\n",
        "```\n",
        "\n",
        "\n",
        "\n",
        "1. Defina dos funciones, una para x y otra para y. \n",
        "\n",
        "`\n",
        "2. Construya un diccionario con las claves \"X\", \"Y\", \"Tiempo\"\n",
        "\n",
        "3. Con el diccionario construya un data frame de pandas llamado df con los nombres de columnas \"X\", \"Y\", \"Tiempo\"  https://pandas.pydata.org/docs/reference/api/pandas.DataFrame.from_dict.html. Defina 1000 regitros para el intervalo de tiempo elegido.\n",
        "\n",
        "\n",
        "4. Realice un gráfico de x como función del tiempo, de y como función del tiempo y la trayectoria de la partícula (df[\"X\"], df[\"tiempo\"], df[\"Y\"]).\n",
        "\n",
        "\n",
        "5. Determine el alcance máximo de la partícula, para ello tome  la solucion teórica con $y=0$, solucione numéricamente la ecuación para t y remplace este valor en la ecuación para x. Resuelvalo para $\\theta=45^{o}$.  \n",
        "\n",
        "6. Construya una  grafica del alcance máximo R como función de $\\theta$, varie $\\theta$  entre 10 y 80 grados cada 5 grados.\n",
        "\n",
        "7. Realice una interpolacion de R como función de theta.\n",
        "\n",
        "\n",
        "\n",
        "\n",
        "\n",
        "\n",
        "\n"
      ]
    },
    {
      "cell_type": "code",
      "metadata": {
        "id": "bFxzGQFK249p"
      },
      "source": [
        ""
      ],
      "execution_count": 11,
      "outputs": []
    },
    {
      "cell_type": "code",
      "metadata": {
        "id": "Ns71g94a2mER"
      },
      "source": [
        "#\n",
        "\n",
        "v0 = 60                    #Velocidad en m/s\n",
        "alpha = np.pi              #Angulo del viento\n",
        "theta = np.deg2rad(45)    \n",
        "u =0                        #rapidez del viento\n",
        "b = 0.05                   #Parametro de friccion \n",
        "g = 9.8                    #Aceleracion de la gravedad m/s2\n",
        "\n",
        "Params = (alpha, v0, b, u, g)  #Parametros en tupla. #Angulo de lanzamiento\n"
      ],
      "execution_count": 12,
      "outputs": []
    },
    {
      "cell_type": "code",
      "metadata": {
        "id": "HEEtRuug464L"
      },
      "source": [
        "#1 FUNCIONES PARA LA POSICION EN x Y EN y\n",
        "\n",
        "#Posicion en x\n",
        "def pos_x(t, theta, alpha, v0, b, u, g):\n",
        "  T1 = u * t * np.cos(alpha)                              #Termino 1\n",
        "  T2 = (1./b)*(v0*np.cos(theta) - u*np.cos(alpha) )        #Termino 2\n",
        "  T3 = (1 - np.e**(-b*t))                                   #Termino 3\n",
        "\n",
        "  return T1 + T2*T3 \n",
        "    \n",
        "\n",
        "#Posicion en y\n",
        "def pos_y(t, theta, alpha, v0, b, u,g):\n",
        "\n",
        "  T1 = (1./b)*(g/b + v0*np.sin(theta) - u*np.sin(alpha) ) #termino 1\n",
        "  T2 = (1 - np.e**(- b * t)) #termino 2\n",
        "  T3 = (g / b - u *  np.sin(alpha))*t #termino 3\n",
        "\n",
        "  return T1* T2 - T3"
      ],
      "execution_count": 13,
      "outputs": []
    },
    {
      "cell_type": "code",
      "metadata": {
        "id": "YbGxwxtf3ngv"
      },
      "source": [
        "#2 CONTRUIR UN DICCIONARIO CON LAS CLAVES 'X', 'Y' y 'TIEMPO'\n",
        "\n",
        "t = np.linspace(0, 20, 100)      # Tiempo \n",
        "x = pos_x(t, theta, *Params)\n",
        "y = pos_y(t, theta, *Params) \n",
        "mov = { \"X\": x , \"Y\": y, \"Tiempo\": t }  # diccionario\n",
        "\n",
        "#3\n",
        "df = pd.DataFrame.from_dict(mov)"
      ],
      "execution_count": 14,
      "outputs": []
    },
    {
      "cell_type": "code",
      "metadata": {
        "colab": {
          "base_uri": "https://localhost:8080/",
          "height": 621
        },
        "id": "qn-5HkWj2tkn",
        "outputId": "3e3a6de7-ecf6-47c7-c0e8-6e0448a1136b"
      },
      "source": [
        "#4. Realice un gráfico de x como función del tiempo, de y como función del tiempo y la trayectoria de la partícula (df[\"X\"], df[\"tiempo\"], df[\"Y\"]).\n",
        "plt.figure(figsize=(20,10))\n",
        "plt.subplot(121)\n",
        "plt.plot(df[\"Tiempo\"], df[\"X\"], label=\"pos_x\") \n",
        "plt.plot(df[\"Tiempo\"], df[\"Y\"], label=\"pos_y\")\n",
        "plt.xlabel(\"Tiempo t(s)\")\n",
        "plt.ylabel(\"Posicion (m)\")\n",
        "plt.legend()\n",
        "plt.title(\"Theta = \" + str(\"%.3lf\"%theta))\n",
        "plt.grid()"
      ],
      "execution_count": 38,
      "outputs": [
        {
          "output_type": "display_data",
          "data": {
            "image/png": "[encoded data removed]",
            "text/plain": [
              "<Figure size 1440x720 with 1 Axes>"
            ]
          },
          "metadata": {
            "needs_background": "light"
          }
        }
      ]
    },
    {
      "cell_type": "code",
      "metadata": {
        "id": "5zJj3TG2paZY",
        "colab": {
          "base_uri": "https://localhost:8080/",
          "height": 676
        },
        "outputId": "def85f14-6fe2-4287-8ce5-3f42efc6731e"
      },
      "source": [
        "#grafico de la trayectoria \n",
        "\n",
        "plt.figure(figsize=(20,11))\n",
        "plt.subplot(122)\n",
        "plt.plot(df[\"X\"], df[\"Y\"], label=\"Trayectoria\") \n",
        "plt.xlabel(\"x(m)\")\n",
        "plt.ylabel(\"y(m)\")\n",
        "plt.legend()\n",
        "plt.title(\"Theta = \" + str(\"%.3lf\"%theta))\n",
        "plt.grid()\n",
        "plt.show()"
      ],
      "execution_count": 39,
      "outputs": [
        {
          "output_type": "display_data",
          "data": {
            "image/png": "[encoded data removed]",
            "text/plain": [
              "<Figure size 1440x792 with 1 Axes>"
            ]
          },
          "metadata": {
            "needs_background": "light"
          }
        }
      ]
    },
    {
      "cell_type": "markdown",
      "metadata": {
        "id": "ikhg4AZG6PGx"
      },
      "source": [
        "5. Determine el alcance máximo de la partícula, para ello tome  la solucion teórica con $y=0$, solucione numéricamente la ecuación para t y remplace este valor en la ecuación para x. Resuelvalo para $\\theta=45^{o}$."
      ]
    },
    {
      "cell_type": "markdown",
      "metadata": {
        "id": "yy0IRLca8_uw"
      },
      "source": [
        "\n",
        "Posicion en y \n",
        "\\begin{equation}\n",
        "y= \\frac{1}{b}\\left(\\frac{g}{b}+v_0 \\sin \\theta_0 -u\\sin\\alpha \\right)(1-\\mathrm{exp}(-bt))-\\left( \\frac{g}{b}-u\\sin\\alpha\\right)t\n",
        "\\end{equation}\n"
      ]
    },
    {
      "cell_type": "markdown",
      "metadata": {
        "id": "QrzKFR5shurU"
      },
      "source": [
        "En la funcion pos_y la unica variable independiente es el tiempo. Para hallar el tiempo para el que la particula llega al piso, buscamos las raices de pos_y"
      ]
    },
    {
      "cell_type": "code",
      "metadata": {
        "id": "P-3YpnYf_InF"
      },
      "source": [
        "tf = optimize.newton(pos_y, 10, args=(theta, alpha, v0, b, u,g))  #tiempo en que la particula vuelve al piso"
      ],
      "execution_count": 20,
      "outputs": []
    },
    {
      "cell_type": "markdown",
      "metadata": {
        "id": "Ljqy1-ooExPT"
      },
      "source": [
        "Con las raices de la funcion tenemos el tiempo para el que la particula llega al suelo otra vez. Se evalua este valor en x y obtenemos el alcance maximo sobre el eje "
      ]
    },
    {
      "cell_type": "code",
      "metadata": {
        "colab": {
          "base_uri": "https://localhost:8080/"
        },
        "id": "HNjo77ExJKTR",
        "outputId": "d8621f3d-2846-45cd-f678-7e41b95bd3fe"
      },
      "source": [
        "pos_x(tf, theta, alpha, v0, b, u, g)   #alcance maximo sobre el eje x"
      ],
      "execution_count": 22,
      "outputs": [
        {
          "output_type": "execute_result",
          "data": {
            "text/plain": [
              "239.60614945520706"
            ]
          },
          "metadata": {},
          "execution_count": 22
        }
      ]
    },
    {
      "cell_type": "markdown",
      "metadata": {
        "id": "82fwRXa3F6_m"
      },
      "source": [
        "6. Construya una  grafica del alcance máximo R como función de $\\theta$, varie $\\theta$  entre 10 y 80 grados cada 5 grados.\n",
        "\n",
        "---\n",
        "\n"
      ]
    },
    {
      "cell_type": "markdown",
      "metadata": {
        "id": "q_PO9fNOieH7"
      },
      "source": [
        "Ahora pos_y es funcion del tiempo y de theta"
      ]
    },
    {
      "cell_type": "code",
      "metadata": {
        "colab": {
          "base_uri": "https://localhost:8080/",
          "height": 567
        },
        "id": "QVgbvb6bOoRN",
        "outputId": "3b006c9e-99ee-4110-a6fe-b7926df79a73"
      },
      "source": [
        "th1 = np.arange(10, 80+5, 5)\n",
        "th = np.radians(th1)          #angulos en rad\n",
        "am = np.zeros(len(th))        # Arreglo de alcances máximos\n",
        "\n",
        "for i in range(th.size):\n",
        "  # Tiempo en el que la partícula llega al suelo\n",
        "  tam = optimize.newton(pos_y, 10, args=(th[i], alpha, v0, b, u,g))\n",
        "\n",
        " #Para Theta_i se obtiene una funcion de pos_y diferente, por tanto un tiempo final diferente\n",
        " #Aun asi usamos 10 como semilla para hallar la raiz, como se vio anteriormente de la grafica de pos_y es parabolica \n",
        " #Entonces se garantiza la convergencia del metodo de Newton  para cualquier semilla que se tome\n",
        " \n",
        "  \n",
        "  am[i] = pos_x(tam, th[i], alpha, v0, b, u, g)     # Alcance máximo para theta[i]\n",
        "\n",
        "plt.figure(figsize=(12,9))\n",
        "plt.plot(th1, am, 'o--')\n",
        "plt.title('Alcance máximo vs Theta')\n",
        "plt.xlabel('Theta [°]')\n",
        "plt.ylabel('Alcance máximo R [m]')\n",
        "plt.xticks(th1)\n",
        "plt.grid()"
      ],
      "execution_count": 23,
      "outputs": [
        {
          "output_type": "display_data",
          "data": {
            "image/png": "[encoded data removed]",
            "text/plain": [
              "<Figure size 864x648 with 1 Axes>"
            ]
          },
          "metadata": {
            "needs_background": "light"
          }
        }
      ]
    },
    {
      "cell_type": "markdown",
      "metadata": {
        "id": "ploZG0RHVXfL"
      },
      "source": [
        "7. Realice una interpolacion de R como función de theta."
      ]
    },
    {
      "cell_type": "code",
      "metadata": {
        "id": "IfJQ9z6QVHC-"
      },
      "source": [
        "from scipy.interpolate import lagrange\n",
        "\n",
        "\n",
        "AM = lagrange(th1,am)  "
      ],
      "execution_count": 25,
      "outputs": []
    },
    {
      "cell_type": "code",
      "metadata": {
        "colab": {
          "base_uri": "https://localhost:8080/"
        },
        "id": "O3bATPlvWJB7",
        "outputId": "2dab040d-8698-4fa1-b38e-f3ce7eebf52d"
      },
      "source": [
        "AM"
      ],
      "execution_count": 26,
      "outputs": [
        {
          "output_type": "execute_result",
          "data": {
            "text/plain": [
              "poly1d([ 5.21944577e-28, -4.06741855e-25,  1.45646938e-22, -3.07760094e-20,\n",
              "        3.85279342e-18, -1.64056943e-16, -4.08228674e-14,  9.85550655e-12,\n",
              "       -9.44003576e-10, -2.36236738e-08,  2.17833578e-05, -1.79060077e-03,\n",
              "       -1.25602464e-01,  1.28228277e+01, -1.13479959e-06])"
            ]
          },
          "metadata": {},
          "execution_count": 26
        }
      ]
    },
    {
      "cell_type": "code",
      "metadata": {
        "colab": {
          "base_uri": "https://localhost:8080/",
          "height": 567
        },
        "id": "k3frh6oJWYs3",
        "outputId": "2f480f54-edce-4160-801a-a9658452cfa4"
      },
      "source": [
        "\n",
        "\n",
        "plt.figure(figsize=(12,9))\n",
        "plt.plot(th1,AM(th1))\n",
        "plt.title('Interpolacion Alcance máximo vs Theta')\n",
        "plt.xlabel('Theta [°]')\n",
        "plt.ylabel('Alcance máximo R [m]')\n",
        "plt.xticks(th1)\n",
        "plt.grid()"
      ],
      "execution_count": 29,
      "outputs": [
        {
          "output_type": "display_data",
          "data": {
            "image/png": "[encoded data removed]",
            "text/plain": [
              "<Figure size 864x648 with 1 Axes>"
            ]
          },
          "metadata": {
            "needs_background": "light"
          }
        }
      ]
    },
    {
      "cell_type": "markdown",
      "metadata": {
        "id": "tzGT_Ad4jt_u"
      },
      "source": [
        "Yennifer Yuliana Guerrero Uchima y\n",
        "Valentina Rodriguez Hernandez"
      ]
    },
    {
      "cell_type": "code",
      "metadata": {
        "id": "mxP9mHCjWsjZ"
      },
      "source": [
        ""
      ],
      "execution_count": null,
      "outputs": []
    }
  ]
}